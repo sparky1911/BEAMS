{
 "cells": [
  {
   "cell_type": "code",
   "execution_count": 85,
   "metadata": {},
   "outputs": [
    {
     "data": {
      "text/latex": [
       "$\\displaystyle M_{0} {\\left\\langle x \\right\\rangle}^{-2} + R_{0} {\\left\\langle x \\right\\rangle}^{-1} + R_{4.50000000000000} {\\left\\langle x - 4.5 \\right\\rangle}^{-1} - 8 {\\left\\langle x \\right\\rangle}^{0} - 50 {\\left\\langle x - 5 \\right\\rangle}^{-2} + 8 {\\left\\langle x - 5 \\right\\rangle}^{0} - 12 {\\left\\langle x - 9 \\right\\rangle}^{-1}$"
      ],
      "text/plain": [
       "M_0*SingularityFunction(x, 0, -2) + R_0*SingularityFunction(x, 0, -1) + R_4.50000000000000*SingularityFunction(x, 4.5, -1) - 8*SingularityFunction(x, 0, 0) - 50*SingularityFunction(x, 5, -2) + 8*SingularityFunction(x, 5, 0) - 12*SingularityFunction(x, 9, -1)"
      ]
     },
     "execution_count": 85,
     "metadata": {},
     "output_type": "execute_result"
    }
   ],
   "source": [
    "from sympy import *\n",
    "from sympy.physics.continuum_mechanics.beam import Beam\n",
    "E, I = symbols('E, I')\n",
    "b = Beam(9, E, I)\n",
    "b.apply_load(-12, 9, -1)\n",
    "b.apply_load(-50, 5, -2)\n",
    "b.apply_load(-8, 0, 0, end=5)\n",
    "b.apply_support(0, type='fixed')\n",
    "b.apply_support(4.5, type='roller')\n",
    "b.load"
   ]
  },
  {
   "cell_type": "code",
   "execution_count": 86,
   "metadata": {},
   "outputs": [
    {
     "data": {
      "text/plain": [
       "[(-12, 9, -1, None),\n",
       " (-50, 5, -2, None),\n",
       " (-8, 0, 0, 5),\n",
       " (R_0, 0, -1, None),\n",
       " (M_0, 0, -2, None),\n",
       " (R_4.50000000000000, 4.50000000000000, -1, None)]"
      ]
     },
     "execution_count": 86,
     "metadata": {},
     "output_type": "execute_result"
    }
   ],
   "source": [
    "b.applied_loads"
   ]
  },
  {
   "cell_type": "code",
   "execution_count": 87,
   "metadata": {},
   "outputs": [
    {
     "data": {
      "text/plain": [
       "{R_4.50000000000000: 31.1666666666667,\n",
       " R_0: 20.8333333333333,\n",
       " M_0: -17.7500000000000}"
      ]
     },
     "execution_count": 87,
     "metadata": {},
     "output_type": "execute_result"
    }
   ],
   "source": [
    "R_4,R_0,M_0 = symbols('R_4.50000000000000,R_0,M_0')\n",
    "\n",
    "b.solve_for_reaction_loads(R_4,R_0,M_0)\n",
    "b.reaction_loads"
   ]
  },
  {
   "cell_type": "code",
   "execution_count": null,
   "metadata": {},
   "outputs": [],
   "source": []
  },
  {
   "cell_type": "code",
   "execution_count": 88,
   "metadata": {},
   "outputs": [
    {
     "data": {
      "text/latex": [
       "$\\displaystyle - 17.75 {\\left\\langle x \\right\\rangle}^{-2} + 20.8333333333333 {\\left\\langle x \\right\\rangle}^{-1} - 8 {\\left\\langle x \\right\\rangle}^{0} + 31.1666666666667 {\\left\\langle x - 4.5 \\right\\rangle}^{-1} - 50 {\\left\\langle x - 5 \\right\\rangle}^{-2} + 8 {\\left\\langle x - 5 \\right\\rangle}^{0} - 12 {\\left\\langle x - 9 \\right\\rangle}^{-1}$"
      ],
      "text/plain": [
       "-17.75*SingularityFunction(x, 0, -2) + 20.8333333333333*SingularityFunction(x, 0, -1) - 8*SingularityFunction(x, 0, 0) + 31.1666666666667*SingularityFunction(x, 4.5, -1) - 50*SingularityFunction(x, 5, -2) + 8*SingularityFunction(x, 5, 0) - 12*SingularityFunction(x, 9, -1)"
      ]
     },
     "execution_count": 88,
     "metadata": {},
     "output_type": "execute_result"
    }
   ],
   "source": [
    "b.load"
   ]
  },
  {
   "cell_type": "code",
   "execution_count": 89,
   "metadata": {
    "scrolled": true
   },
   "outputs": [
    {
     "data": {
      "text/latex": [
       "$\\displaystyle - 17.75 {\\left\\langle x \\right\\rangle}^{-1} + 20.8333333333333 {\\left\\langle x \\right\\rangle}^{0} - 8 {\\left\\langle x \\right\\rangle}^{1} + 31.1666666666667 {\\left\\langle x - 4.5 \\right\\rangle}^{0} - 50 {\\left\\langle x - 5 \\right\\rangle}^{-1} + 8 {\\left\\langle x - 5 \\right\\rangle}^{1} - 12 {\\left\\langle x - 9 \\right\\rangle}^{0}$"
      ],
      "text/plain": [
       "-17.75*SingularityFunction(x, 0, -1) + 20.8333333333333*SingularityFunction(x, 0, 0) - 8*SingularityFunction(x, 0, 1) + 31.1666666666667*SingularityFunction(x, 4.5, 0) - 50*SingularityFunction(x, 5, -1) + 8*SingularityFunction(x, 5, 1) - 12*SingularityFunction(x, 9, 0)"
      ]
     },
     "execution_count": 89,
     "metadata": {},
     "output_type": "execute_result"
    }
   ],
   "source": [
    "b.shear_force()"
   ]
  },
  {
   "cell_type": "code",
   "execution_count": 90,
   "metadata": {},
   "outputs": [
    {
     "data": {
      "text/latex": [
       "$\\displaystyle - 17.75 {\\left\\langle x \\right\\rangle}^{0} + 20.8333333333333 {\\left\\langle x \\right\\rangle}^{1} - 4 {\\left\\langle x \\right\\rangle}^{2} + 31.1666666666667 {\\left\\langle x - 4.5 \\right\\rangle}^{1} - 50 {\\left\\langle x - 5 \\right\\rangle}^{0} + 4 {\\left\\langle x - 5 \\right\\rangle}^{2} - 12 {\\left\\langle x - 9 \\right\\rangle}^{1}$"
      ],
      "text/plain": [
       "-17.75*SingularityFunction(x, 0, 0) + 20.8333333333333*SingularityFunction(x, 0, 1) - 4*SingularityFunction(x, 0, 2) + 31.1666666666667*SingularityFunction(x, 4.5, 1) - 50*SingularityFunction(x, 5, 0) + 4*SingularityFunction(x, 5, 2) - 12*SingularityFunction(x, 9, 1)"
      ]
     },
     "execution_count": 90,
     "metadata": {},
     "output_type": "execute_result"
    }
   ],
   "source": [
    "b.bending_moment()"
   ]
  },
  {
   "cell_type": "code",
   "execution_count": 91,
   "metadata": {},
   "outputs": [
    {
     "name": "stderr",
     "output_type": "stream",
     "text": [
      "C:\\Users\\shashank\\anaconda3\\lib\\site-packages\\sympy\\plotting\\plot.py:1411: RuntimeWarning: invalid value encountered in double_scalars\n",
      "  cos_theta = dot_product / (vector_a_norm * vector_b_norm)\n"
     ]
    },
    {
     "data": {
      "image/png": "[encoded data removed]",
      "text/plain": [
       "<Figure size 432x288 with 1 Axes>"
      ]
     },
     "metadata": {
      "needs_background": "light"
     },
     "output_type": "display_data"
    },
    {
     "data": {
      "image/png": "[encoded data removed]",
      "text/plain": [
       "<Figure size 432x288 with 1 Axes>"
      ]
     },
     "metadata": {
      "needs_background": "light"
     },
     "output_type": "display_data"
    },
    {
     "data": {
      "text/plain": [
       "<sympy.plotting.plot.Plot at 0x20011dcb040>"
      ]
     },
     "execution_count": 91,
     "metadata": {},
     "output_type": "execute_result"
    }
   ],
   "source": [
    "b.plot_shear_force()  \n",
    "b.plot_bending_moment() "
   ]
  },
  {
   "cell_type": "code",
   "execution_count": null,
   "metadata": {},
   "outputs": [],
   "source": []
  },
  {
   "cell_type": "code",
   "execution_count": null,
   "metadata": {},
   "outputs": [],
   "source": []
  }
 ],
 "metadata": {
  "kernelspec": {
   "display_name": "Python 3",
   "language": "python",
   "name": "python3"
  },
  "language_info": {
   "codemirror_mode": {
    "name": "ipython",
    "version": 3
   },
   "file_extension": ".py",
   "mimetype": "text/x-python",
   "name": "python",
   "nbconvert_exporter": "python",
   "pygments_lexer": "ipython3",
   "version": "3.8.3"
  }
 },
 "nbformat": 4,
 "nbformat_minor": 4
}
