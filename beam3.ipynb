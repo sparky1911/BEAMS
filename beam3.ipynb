{
 "cells": [
  {
   "cell_type": "code",
   "execution_count": 1,
   "metadata": {},
   "outputs": [],
   "source": [
    "from sympy import *\n",
    "from sympy.physics.continuum_mechanics.beam import Beam\n",
    "E, I = symbols('E, I')"
   ]
  },
  {
   "cell_type": "code",
   "execution_count": 2,
   "metadata": {},
   "outputs": [],
   "source": [
    "    \n",
    "def point_load():\n",
    "    value=float(input(\"Enter load in KN :\\n \"))\n",
    "    pos=float(input(\"Enter the position in m measured from left: \"))\n",
    "    b.apply_load(value,pos,-1,end=None)\n",
    "    \n",
    "def moment():\n",
    "    value=float(input(\"Enter moment in KN-m :\\n \"))\n",
    "    pos=float(input(\"Enter the position in m measured from left: \"))\n",
    "    b.apply_load(value,pos,-2,end=None)\n",
    "def UDL():\n",
    "    value=float(input(\"Enter load in KN/m :\\n \"))\n",
    "    pos1=float(input(\"Enter the starting point in m measured from left: \"))\n",
    "    pos2=float(input(\"Enter the ending point in m measured from left: \"))\n",
    "    b.apply_load(value,pos1,0,end=pos2)\n",
    "    \n",
    "def UVL():\n",
    "    value1=float(input(\"Enter staring load in KN/m :\\n \"))\n",
    "    value2=float(input(\"Enter ending load in KN/m :\\n \"))    \n",
    "    pos1=float(input(\"Enter the starting point in m measured from left: \"))\n",
    "    pos2=float(input(\"Enter the ending point in m measured from left: \"))\n",
    "    \n",
    "    if (value1>0):\n",
    "        b.apply_load(value1,pos1,0,end=pos2)\n",
    "        \n",
    "        \n",
    "        value2=value2-value1\n",
    "        value1=0\n",
    "        slope=value2/(pos2-pos1)\n",
    "        b.apply_load(slope,pos1,1,end=pos2)\n",
    "        \n",
    "        #b.apply_load(1, pos1, 1, end=6)\n",
    "    else:\n",
    "        slope=value2/(pos2-pos1)\n",
    "        b.apply_load(slope,pos1,1,end=pos2)\n",
    "        \n",
    "        \n",
    "        \n",
    "def fixed(loc):\n",
    "    b.apply_support(loc,type='fixed')\n",
    "    \n",
    "def pin(loc):\n",
    "    b.apply_support(loc,type='pin')\n",
    "\n",
    "def roller(loc):\n",
    "    b.apply_support(loc,type='roller')\n",
    "    \n",
    "    \n",
    "    \n",
    "    \n",
    "        \n",
    "        \n",
    "        \n",
    "        \n",
    "reac_counter=0    \n",
    "    \n",
    "    \n",
    "    \n",
    "    \n",
    "    \n",
    "    "
   ]
  },
  {
   "cell_type": "code",
   "execution_count": 3,
   "metadata": {},
   "outputs": [
    {
     "name": "stdout",
     "output_type": "stream",
     "text": [
      "Enter the length of the beam in m:\n",
      "9\n",
      "Enter the number of point loads:\n",
      "1\n",
      "Enter load in KN :\n",
      " -12\n",
      "Enter the position in m measured from left: 8\n",
      "Enter the number of moment:\n",
      "1\n",
      "Enter moment in KN-m :\n",
      " -50\n",
      "Enter the position in m measured from left: 5\n",
      "Enter the number of UDLs:\n",
      "1\n",
      "Enter load in KN/m :\n",
      " -8\n",
      "Enter the starting point in m measured from left: 0\n",
      "Enter the ending point in m measured from left: 4\n",
      "Enter the number of UVLs:\n",
      "1\n",
      "Enter staring load in KN/m :\n",
      " 4\n",
      "Enter ending load in KN/m :\n",
      " 8\n",
      "Enter the starting point in m measured from left: 2\n",
      "Enter the ending point in m measured from left: 6\n",
      "Enter the number of fixed supports:\n",
      "0\n",
      "Enter the number of pin supports:\n",
      "1\n",
      "Enter the location in m:\n",
      "0\n",
      "Enter the number of roller supports:\n",
      "1\n",
      "Enter the location in m:\n",
      "6.5\n"
     ]
    }
   ],
   "source": [
    "l=value=float(input(\"Enter the length of the beam in m:\\n\"))\n",
    "b = Beam(l, E, I)\n",
    "\n",
    "npl=int(input(\"Enter the number of point loads:\\n\"))\n",
    "for i in range(npl):\n",
    "    point_load()\n",
    "    \n",
    "    \n",
    "nm=int(input(\"Enter the number of moment:\\n\"))\n",
    "for i in range(nm):\n",
    "    moment()\n",
    "    \n",
    "    \n",
    "udl=int(input(\"Enter the number of UDLs:\\n\"))\n",
    "for i in range(udl):\n",
    "    UDL()\n",
    "    \n",
    "uvl=int(input(\"Enter the number of UVLs:\\n\"))\n",
    "for i in range(uvl):\n",
    "    UVL()\n",
    "    \n",
    "fs=int(input(\"Enter the number of fixed supports:\\n\"))\n",
    "reac_counter=reac_counter+(2*fs)\n",
    "for i in range(fs):\n",
    "    loc=float(input(\"Enter the location in m:\\n\"))\n",
    "    fixed(loc)\n",
    "    \n",
    "    \n",
    "ps=int(input(\"Enter the number of pin supports:\\n\"))\n",
    "reac_counter=reac_counter+ps\n",
    "for i in range(ps):\n",
    "    loc=float(input(\"Enter the location in m:\\n\"))\n",
    "    pin(loc)\n",
    "    \n",
    "rs=int(input(\"Enter the number of roller supports:\\n\"))\n",
    "reac_counter=reac_counter+rs\n",
    "for i in range(rs):\n",
    "    loc=float(input(\"Enter the location in m:\\n\"))\n",
    "    roller(loc)\n",
    "    \n",
    "\n",
    "    "
   ]
  },
  {
   "cell_type": "code",
   "execution_count": 137,
   "metadata": {},
   "outputs": [
    {
     "data": {
      "text/latex": [
       "$\\displaystyle 18.6666666666667 {\\left\\langle x \\right\\rangle}^{-1} - 8.0 {\\left\\langle x \\right\\rangle}^{0} + 4.0 {\\left\\langle x - 2.0 \\right\\rangle}^{0} + 1.0 {\\left\\langle x - 2.0 \\right\\rangle}^{1} + 8.0 {\\left\\langle x - 4.0 \\right\\rangle}^{0} - 50.0 {\\left\\langle x - 5.0 \\right\\rangle}^{-2} - 8.0 {\\left\\langle x - 6.0 \\right\\rangle}^{0} - 1.0 {\\left\\langle x - 6.0 \\right\\rangle}^{1} + 1.33333333333334 {\\left\\langle x - 6.5 \\right\\rangle}^{-1} - 12.0 {\\left\\langle x - 8.0 \\right\\rangle}^{-1}$"
      ],
      "text/plain": [
       "18.6666666666667*SingularityFunction(x, 0.0, -1) - 8.0*SingularityFunction(x, 0.0, 0) + 4.0*SingularityFunction(x, 2.0, 0) + 1.0*SingularityFunction(x, 2.0, 1) + 8.0*SingularityFunction(x, 4.0, 0) - 50.0*SingularityFunction(x, 5.0, -2) - 8.0*SingularityFunction(x, 6.0, 0) - 1.0*SingularityFunction(x, 6.0, 1) + 1.33333333333334*SingularityFunction(x, 6.5, -1) - 12.0*SingularityFunction(x, 8.0, -1)"
      ]
     },
     "execution_count": 137,
     "metadata": {},
     "output_type": "execute_result"
    }
   ],
   "source": [
    "b.load"
   ]
  },
  {
   "cell_type": "code",
   "execution_count": 138,
   "metadata": {},
   "outputs": [
    {
     "data": {
      "text/plain": [
       "[(-12.0000000000000, 8.00000000000000, -1, None),\n",
       " (-50.0000000000000, 5.00000000000000, -2, None),\n",
       " (-8.00000000000000, 0.0, 0, 4.0),\n",
       " (4.00000000000000, 2.00000000000000, 0, 6.0),\n",
       " (1.00000000000000, 2.00000000000000, 1, 6.0),\n",
       " (R_0.0, 0.0, -1, None),\n",
       " (R_6.50000000000000, 6.50000000000000, -1, None)]"
      ]
     },
     "execution_count": 138,
     "metadata": {},
     "output_type": "execute_result"
    }
   ],
   "source": [
    "b.applied_loads"
   ]
  },
  {
   "cell_type": "code",
   "execution_count": 139,
   "metadata": {},
   "outputs": [],
   "source": [
    "n=reac_counter\n",
    "listreac = b.applied_loads[-n:]\n",
    "reac = []\n",
    "\n",
    "for a_tuple in listreac:\n",
    "    reac.append(a_tuple[0])"
   ]
  },
  {
   "cell_type": "code",
   "execution_count": 140,
   "metadata": {
    "scrolled": true
   },
   "outputs": [
    {
     "data": {
      "text/plain": [
       "[R_0.0, R_6.50000000000000]"
      ]
     },
     "execution_count": 140,
     "metadata": {},
     "output_type": "execute_result"
    }
   ],
   "source": [
    "reac"
   ]
  },
  {
   "cell_type": "code",
   "execution_count": 135,
   "metadata": {},
   "outputs": [],
   "source": [
    "re=[]    \n",
    "for x in range(n):\n",
    "    re.append(\"R\" + str(x))  \n",
    "      "
   ]
  },
  {
   "cell_type": "code",
   "execution_count": 136,
   "metadata": {},
   "outputs": [
    {
     "name": "stdout",
     "output_type": "stream",
     "text": [
      "['R0', 'R1']\n"
     ]
    }
   ],
   "source": [
    "re1=re\n",
    "print(re)"
   ]
  },
  {
   "cell_type": "code",
   "execution_count": null,
   "metadata": {},
   "outputs": [],
   "source": [
    "tan=[]"
   ]
  },
  {
   "cell_type": "code",
   "execution_count": 143,
   "metadata": {},
   "outputs": [
    {
     "ename": "AttributeError",
     "evalue": "type object 'tan' has no attribute 'append'",
     "output_type": "error",
     "traceback": [
      "\u001b[1;31m---------------------------------------------------------------------------\u001b[0m",
      "\u001b[1;31mAttributeError\u001b[0m                            Traceback (most recent call last)",
      "\u001b[1;32m<ipython-input-143-341676e72d1d>\u001b[0m in \u001b[0;36m<module>\u001b[1;34m\u001b[0m\n\u001b[0;32m      1\u001b[0m \u001b[1;32mfor\u001b[0m \u001b[0mi\u001b[0m \u001b[1;32min\u001b[0m \u001b[0mrange\u001b[0m\u001b[1;33m(\u001b[0m\u001b[0mlen\u001b[0m\u001b[1;33m(\u001b[0m\u001b[0mreac\u001b[0m\u001b[1;33m)\u001b[0m\u001b[1;33m)\u001b[0m\u001b[1;33m:\u001b[0m\u001b[1;33m\u001b[0m\u001b[1;33m\u001b[0m\u001b[0m\n\u001b[0;32m      2\u001b[0m     \u001b[0mglobals\u001b[0m\u001b[1;33m(\u001b[0m\u001b[1;33m)\u001b[0m\u001b[1;33m[\u001b[0m\u001b[1;34m'R_%s'\u001b[0m \u001b[1;33m%\u001b[0m \u001b[0mx\u001b[0m\u001b[1;33m]\u001b[0m \u001b[1;33m=\u001b[0m\u001b[0mstr\u001b[0m\u001b[1;33m(\u001b[0m\u001b[0mreac\u001b[0m\u001b[1;33m[\u001b[0m\u001b[0mi\u001b[0m\u001b[1;33m]\u001b[0m\u001b[1;33m)\u001b[0m\u001b[1;33m\u001b[0m\u001b[1;33m\u001b[0m\u001b[0m\n\u001b[1;32m----> 3\u001b[1;33m     \u001b[0mtan\u001b[0m\u001b[1;33m.\u001b[0m\u001b[0mappend\u001b[0m\u001b[1;33m(\u001b[0m\u001b[0mglobals\u001b[0m\u001b[1;33m(\u001b[0m\u001b[1;33m)\u001b[0m\u001b[1;33m[\u001b[0m\u001b[1;34m'R_%s'\u001b[0m \u001b[1;33m%\u001b[0m \u001b[0mx\u001b[0m\u001b[1;33m]\u001b[0m \u001b[1;33m)\u001b[0m\u001b[1;33m\u001b[0m\u001b[1;33m\u001b[0m\u001b[0m\n\u001b[0m",
      "\u001b[1;31mAttributeError\u001b[0m: type object 'tan' has no attribute 'append'"
     ]
    }
   ],
   "source": [
    "for i in range(len(reac)):\n",
    "    globals()['R_%s' % x] =str(reac[i])\n",
    "    "
   ]
  },
  {
   "cell_type": "code",
   "execution_count": 148,
   "metadata": {},
   "outputs": [
    {
     "data": {
      "text/latex": [
       "$\\displaystyle R_{0.0}$"
      ],
      "text/plain": [
       "R_0.0"
      ]
     },
     "execution_count": 148,
     "metadata": {},
     "output_type": "execute_result"
    }
   ],
   "source": [
    "R_0"
   ]
  },
  {
   "cell_type": "code",
   "execution_count": 126,
   "metadata": {},
   "outputs": [],
   "source": []
  },
  {
   "cell_type": "code",
   "execution_count": 127,
   "metadata": {},
   "outputs": [],
   "source": []
  },
  {
   "cell_type": "code",
   "execution_count": null,
   "metadata": {},
   "outputs": [],
   "source": []
  },
  {
   "cell_type": "code",
   "execution_count": 105,
   "metadata": {},
   "outputs": [],
   "source": [
    "R_4 = symbols(r2)\n",
    "\n",
    "R_0=symbols(r1)"
   ]
  },
  {
   "cell_type": "code",
   "execution_count": 130,
   "metadata": {},
   "outputs": [
    {
     "ename": "TypeError",
     "evalue": "unhashable type: 'list'",
     "output_type": "error",
     "traceback": [
      "\u001b[1;31m---------------------------------------------------------------------------\u001b[0m",
      "\u001b[1;31mTypeError\u001b[0m                                 Traceback (most recent call last)",
      "\u001b[1;32m<ipython-input-130-fd42bec77b8f>\u001b[0m in \u001b[0;36m<module>\u001b[1;34m\u001b[0m\n\u001b[1;32m----> 1\u001b[1;33m \u001b[0mb\u001b[0m\u001b[1;33m.\u001b[0m\u001b[0msolve_for_reaction_loads\u001b[0m\u001b[1;33m(\u001b[0m\u001b[0mre1\u001b[0m\u001b[1;33m)\u001b[0m\u001b[1;33m\u001b[0m\u001b[1;33m\u001b[0m\u001b[0m\n\u001b[0m\u001b[0;32m      2\u001b[0m \u001b[0mb\u001b[0m\u001b[1;33m.\u001b[0m\u001b[0mreaction_loads\u001b[0m\u001b[1;33m\u001b[0m\u001b[1;33m\u001b[0m\u001b[0m\n",
      "\u001b[1;32m~\\anaconda3\\lib\\site-packages\\sympy\\physics\\continuum_mechanics\\beam.py\u001b[0m in \u001b[0;36msolve_for_reaction_loads\u001b[1;34m(self, *reactions)\u001b[0m\n\u001b[0;32m    798\u001b[0m             \u001b[0mdeflection_eqs\u001b[0m\u001b[1;33m.\u001b[0m\u001b[0mappend\u001b[0m\u001b[1;33m(\u001b[0m\u001b[0meqs\u001b[0m\u001b[1;33m)\u001b[0m\u001b[1;33m\u001b[0m\u001b[1;33m\u001b[0m\u001b[0m\n\u001b[0;32m    799\u001b[0m \u001b[1;33m\u001b[0m\u001b[0m\n\u001b[1;32m--> 800\u001b[1;33m         solution = list((linsolve([shear_curve, moment_curve] + slope_eqs\n\u001b[0m\u001b[0;32m    801\u001b[0m                             + deflection_eqs, (C3, C4) + reactions).args)[0])\n\u001b[0;32m    802\u001b[0m         \u001b[0msolution\u001b[0m \u001b[1;33m=\u001b[0m \u001b[0msolution\u001b[0m\u001b[1;33m[\u001b[0m\u001b[1;36m2\u001b[0m\u001b[1;33m:\u001b[0m\u001b[1;33m]\u001b[0m\u001b[1;33m\u001b[0m\u001b[1;33m\u001b[0m\u001b[0m\n",
      "\u001b[1;32m~\\anaconda3\\lib\\site-packages\\sympy\\solvers\\solveset.py\u001b[0m in \u001b[0;36mlinsolve\u001b[1;34m(system, *symbols)\u001b[0m\n\u001b[0;32m   2568\u001b[0m                 _mexpand(i.lhs - i.rhs if isinstance(i, Eq) else i,\n\u001b[0;32m   2569\u001b[0m                 recursive=True) for i in system]\n\u001b[1;32m-> 2570\u001b[1;33m             \u001b[0msystem\u001b[0m\u001b[1;33m,\u001b[0m \u001b[0msymbols\u001b[0m\u001b[1;33m,\u001b[0m \u001b[0mswap\u001b[0m \u001b[1;33m=\u001b[0m \u001b[0mrecast_to_symbols\u001b[0m\u001b[1;33m(\u001b[0m\u001b[0msystem\u001b[0m\u001b[1;33m,\u001b[0m \u001b[0msymbols\u001b[0m\u001b[1;33m)\u001b[0m\u001b[1;33m\u001b[0m\u001b[1;33m\u001b[0m\u001b[0m\n\u001b[0m\u001b[0;32m   2571\u001b[0m             \u001b[0mA\u001b[0m\u001b[1;33m,\u001b[0m \u001b[0mb\u001b[0m \u001b[1;33m=\u001b[0m \u001b[0mlinear_eq_to_matrix\u001b[0m\u001b[1;33m(\u001b[0m\u001b[0msystem\u001b[0m\u001b[1;33m,\u001b[0m \u001b[0msymbols\u001b[0m\u001b[1;33m)\u001b[0m\u001b[1;33m\u001b[0m\u001b[1;33m\u001b[0m\u001b[0m\n\u001b[0;32m   2572\u001b[0m             \u001b[0msyms_needed_msg\u001b[0m \u001b[1;33m=\u001b[0m \u001b[1;34m'free symbols in the equations provided'\u001b[0m\u001b[1;33m\u001b[0m\u001b[1;33m\u001b[0m\u001b[0m\n",
      "\u001b[1;32m~\\anaconda3\\lib\\site-packages\\sympy\\solvers\\solvers.py\u001b[0m in \u001b[0;36mrecast_to_symbols\u001b[1;34m(eqs, symbols)\u001b[0m\n\u001b[0;32m     93\u001b[0m     \u001b[0mswap_sym\u001b[0m \u001b[1;33m=\u001b[0m \u001b[1;33m{\u001b[0m\u001b[1;33m}\u001b[0m\u001b[1;33m\u001b[0m\u001b[1;33m\u001b[0m\u001b[0m\n\u001b[0;32m     94\u001b[0m     \u001b[1;32mfor\u001b[0m \u001b[0mi\u001b[0m\u001b[1;33m,\u001b[0m \u001b[0ms\u001b[0m \u001b[1;32min\u001b[0m \u001b[0menumerate\u001b[0m\u001b[1;33m(\u001b[0m\u001b[0msymbols\u001b[0m\u001b[1;33m)\u001b[0m\u001b[1;33m:\u001b[0m\u001b[1;33m\u001b[0m\u001b[1;33m\u001b[0m\u001b[0m\n\u001b[1;32m---> 95\u001b[1;33m         \u001b[1;32mif\u001b[0m \u001b[1;32mnot\u001b[0m \u001b[0misinstance\u001b[0m\u001b[1;33m(\u001b[0m\u001b[0ms\u001b[0m\u001b[1;33m,\u001b[0m \u001b[0mSymbol\u001b[0m\u001b[1;33m)\u001b[0m \u001b[1;32mand\u001b[0m \u001b[0ms\u001b[0m \u001b[1;32mnot\u001b[0m \u001b[1;32min\u001b[0m \u001b[0mswap_sym\u001b[0m\u001b[1;33m:\u001b[0m\u001b[1;33m\u001b[0m\u001b[1;33m\u001b[0m\u001b[0m\n\u001b[0m\u001b[0;32m     96\u001b[0m             \u001b[0mswap_sym\u001b[0m\u001b[1;33m[\u001b[0m\u001b[0ms\u001b[0m\u001b[1;33m]\u001b[0m \u001b[1;33m=\u001b[0m \u001b[0mDummy\u001b[0m\u001b[1;33m(\u001b[0m\u001b[1;34m'X%d'\u001b[0m \u001b[1;33m%\u001b[0m \u001b[0mi\u001b[0m\u001b[1;33m)\u001b[0m\u001b[1;33m\u001b[0m\u001b[1;33m\u001b[0m\u001b[0m\n\u001b[0;32m     97\u001b[0m             \u001b[0mnew_symbols\u001b[0m\u001b[1;33m[\u001b[0m\u001b[0mi\u001b[0m\u001b[1;33m]\u001b[0m \u001b[1;33m=\u001b[0m \u001b[0mswap_sym\u001b[0m\u001b[1;33m[\u001b[0m\u001b[0ms\u001b[0m\u001b[1;33m]\u001b[0m\u001b[1;33m\u001b[0m\u001b[1;33m\u001b[0m\u001b[0m\n",
      "\u001b[1;31mTypeError\u001b[0m: unhashable type: 'list'"
     ]
    }
   ],
   "source": [
    "b.solve_for_reaction_loads(re1)\n",
    "b.reaction_loads"
   ]
  },
  {
   "cell_type": "code",
   "execution_count": 107,
   "metadata": {},
   "outputs": [
    {
     "data": {
      "text/latex": [
       "$\\displaystyle 18.6666666666667 {\\left\\langle x \\right\\rangle}^{1} - 4.0 {\\left\\langle x \\right\\rangle}^{2} + 2.0 {\\left\\langle x - 2.0 \\right\\rangle}^{2} + 0.166666666666667 {\\left\\langle x - 2.0 \\right\\rangle}^{3} + 4.0 {\\left\\langle x - 4.0 \\right\\rangle}^{2} - 50.0 {\\left\\langle x - 5.0 \\right\\rangle}^{0} - 4.0 {\\left\\langle x - 6.0 \\right\\rangle}^{2} - 0.166666666666667 {\\left\\langle x - 6.0 \\right\\rangle}^{3} + 1.33333333333334 {\\left\\langle x - 6.5 \\right\\rangle}^{1} - 12.0 {\\left\\langle x - 8.0 \\right\\rangle}^{1}$"
      ],
      "text/plain": [
       "18.6666666666667*SingularityFunction(x, 0.0, 1) - 4.0*SingularityFunction(x, 0.0, 2) + 2.0*SingularityFunction(x, 2.0, 2) + 0.166666666666667*SingularityFunction(x, 2.0, 3) + 4.0*SingularityFunction(x, 4.0, 2) - 50.0*SingularityFunction(x, 5.0, 0) - 4.0*SingularityFunction(x, 6.0, 2) - 0.166666666666667*SingularityFunction(x, 6.0, 3) + 1.33333333333334*SingularityFunction(x, 6.5, 1) - 12.0*SingularityFunction(x, 8.0, 1)"
      ]
     },
     "execution_count": 107,
     "metadata": {},
     "output_type": "execute_result"
    }
   ],
   "source": [
    "b.load\n",
    "b.shear_force()\n",
    "b.bending_moment()"
   ]
  },
  {
   "cell_type": "code",
   "execution_count": 108,
   "metadata": {},
   "outputs": [
    {
     "data": {
      "image/png": "[encoded data removed]",
      "text/plain": [
       "<Figure size 432x288 with 1 Axes>"
      ]
     },
     "metadata": {
      "needs_background": "light"
     },
     "output_type": "display_data"
    },
    {
     "data": {
      "image/png": "[encoded data removed]",
      "text/plain": [
       "<Figure size 432x288 with 1 Axes>"
      ]
     },
     "metadata": {
      "needs_background": "light"
     },
     "output_type": "display_data"
    },
    {
     "data": {
      "text/plain": [
       "<sympy.plotting.plot.Plot at 0x2b156ca8be0>"
      ]
     },
     "execution_count": 108,
     "metadata": {},
     "output_type": "execute_result"
    }
   ],
   "source": [
    "b.plot_shear_force()  \n",
    "b.plot_bending_moment() "
   ]
  },
  {
   "cell_type": "code",
   "execution_count": null,
   "metadata": {},
   "outputs": [],
   "source": []
  },
  {
   "cell_type": "code",
   "execution_count": null,
   "metadata": {},
   "outputs": [],
   "source": []
  },
  {
   "cell_type": "code",
   "execution_count": null,
   "metadata": {},
   "outputs": [],
   "source": []
  },
  {
   "cell_type": "code",
   "execution_count": 99,
   "metadata": {},
   "outputs": [],
   "source": [
    "'''for x in range(n):\n",
    "    globals()['R_%s' % x] =str(reac[x])'''\n",
    "    \n",
    "re=[]    \n",
    "for x in range(n):\n",
    "    re.append(\"R\" + str(x))  \n",
    "      \n",
    "    \n",
    "    \n",
    "    "
   ]
  },
  {
   "cell_type": "code",
   "execution_count": 87,
   "metadata": {},
   "outputs": [
    {
     "name": "stdout",
     "output_type": "stream",
     "text": [
      "['R0', 'R1']\n"
     ]
    }
   ],
   "source": [
    "\n",
    "print(re)"
   ]
  },
  {
   "cell_type": "code",
   "execution_count": 88,
   "metadata": {},
   "outputs": [],
   "source": [
    "re1=re"
   ]
  },
  {
   "cell_type": "code",
   "execution_count": 89,
   "metadata": {},
   "outputs": [
    {
     "data": {
      "text/plain": [
       "2"
      ]
     },
     "execution_count": 89,
     "metadata": {},
     "output_type": "execute_result"
    }
   ],
   "source": [
    "len(re)"
   ]
  },
  {
   "cell_type": "code",
   "execution_count": 90,
   "metadata": {},
   "outputs": [
    {
     "data": {
      "text/plain": [
       "2"
      ]
     },
     "execution_count": 90,
     "metadata": {},
     "output_type": "execute_result"
    }
   ],
   "source": [
    "len(reac)"
   ]
  },
  {
   "cell_type": "code",
   "execution_count": 91,
   "metadata": {},
   "outputs": [],
   "source": [
    "re=reac"
   ]
  },
  {
   "cell_type": "code",
   "execution_count": 92,
   "metadata": {},
   "outputs": [
    {
     "data": {
      "text/latex": [
       "$\\displaystyle R_{6.50000000000000}$"
      ],
      "text/plain": [
       "R_6.50000000000000"
      ]
     },
     "execution_count": 92,
     "metadata": {},
     "output_type": "execute_result"
    }
   ],
   "source": [
    "re[1]"
   ]
  },
  {
   "cell_type": "code",
   "execution_count": null,
   "metadata": {},
   "outputs": [],
   "source": []
  },
  {
   "cell_type": "code",
   "execution_count": 93,
   "metadata": {},
   "outputs": [
    {
     "data": {
      "text/plain": [
       "2"
      ]
     },
     "execution_count": 93,
     "metadata": {},
     "output_type": "execute_result"
    }
   ],
   "source": [
    "len(re)"
   ]
  },
  {
   "cell_type": "code",
   "execution_count": null,
   "metadata": {},
   "outputs": [],
   "source": [
    "re=str(reac)"
   ]
  },
  {
   "cell_type": "code",
   "execution_count": 49,
   "metadata": {},
   "outputs": [],
   "source": [
    "re=str(reac)\n",
    "    "
   ]
  },
  {
   "cell_type": "code",
   "execution_count": 52,
   "metadata": {},
   "outputs": [],
   "source": [
    "rs=symbols(re[1:-1])"
   ]
  },
  {
   "cell_type": "code",
   "execution_count": 53,
   "metadata": {},
   "outputs": [
    {
     "data": {
      "text/latex": [
       "$\\displaystyle R_{0.0}$"
      ],
      "text/plain": [
       "R_0.0"
      ]
     },
     "execution_count": 53,
     "metadata": {},
     "output_type": "execute_result"
    }
   ],
   "source": [
    "rs[0]"
   ]
  },
  {
   "cell_type": "code",
   "execution_count": 23,
   "metadata": {},
   "outputs": [
    {
     "ename": "TypeError",
     "evalue": "'list' object is not callable",
     "output_type": "error",
     "traceback": [
      "\u001b[1;31m---------------------------------------------------------------------------\u001b[0m",
      "\u001b[1;31mTypeError\u001b[0m                                 Traceback (most recent call last)",
      "\u001b[1;32m<ipython-input-23-c10568ee6e05>\u001b[0m in \u001b[0;36m<module>\u001b[1;34m\u001b[0m\n\u001b[0;32m      1\u001b[0m \u001b[1;32mfor\u001b[0m \u001b[0mi\u001b[0m \u001b[1;32min\u001b[0m \u001b[0mrange\u001b[0m\u001b[1;33m(\u001b[0m\u001b[0mlen\u001b[0m\u001b[1;33m(\u001b[0m\u001b[0mre\u001b[0m\u001b[1;33m)\u001b[0m\u001b[1;33m)\u001b[0m\u001b[1;33m:\u001b[0m\u001b[1;33m\u001b[0m\u001b[1;33m\u001b[0m\u001b[0m\n\u001b[1;32m----> 2\u001b[1;33m     \u001b[0mre\u001b[0m\u001b[1;33m[\u001b[0m\u001b[0mi\u001b[0m\u001b[1;33m]\u001b[0m\u001b[1;33m=\u001b[0m\u001b[0msymbol\u001b[0m\u001b[1;33m(\u001b[0m\u001b[0mre\u001b[0m\u001b[1;33m(\u001b[0m\u001b[0mi\u001b[0m\u001b[1;33m)\u001b[0m\u001b[1;33m)\u001b[0m\u001b[1;33m\u001b[0m\u001b[1;33m\u001b[0m\u001b[0m\n\u001b[0m",
      "\u001b[1;31mTypeError\u001b[0m: 'list' object is not callable"
     ]
    }
   ],
   "source": [
    "'''for i in range(len(re)):\n",
    "    re[i]=symbol(re(i))'''"
   ]
  },
  {
   "cell_type": "code",
   "execution_count": null,
   "metadata": {},
   "outputs": [],
   "source": []
  },
  {
   "cell_type": "code",
   "execution_count": null,
   "metadata": {},
   "outputs": [],
   "source": [
    "#R_0=str(reac[0])\n",
    "#R_6=str(reac[1])"
   ]
  },
  {
   "cell_type": "code",
   "execution_count": null,
   "metadata": {},
   "outputs": [],
   "source": [
    "#R0 = symbols(R_0)\n",
    "\n",
    "#R2=symbols(R_1)"
   ]
  },
  {
   "cell_type": "code",
   "execution_count": 94,
   "metadata": {},
   "outputs": [
    {
     "ename": "TypeError",
     "evalue": "unhashable type: 'list'",
     "output_type": "error",
     "traceback": [
      "\u001b[1;31m---------------------------------------------------------------------------\u001b[0m",
      "\u001b[1;31mTypeError\u001b[0m                                 Traceback (most recent call last)",
      "\u001b[1;32m<ipython-input-94-656b70d33cbc>\u001b[0m in \u001b[0;36m<module>\u001b[1;34m\u001b[0m\n\u001b[1;32m----> 1\u001b[1;33m \u001b[0mb\u001b[0m\u001b[1;33m.\u001b[0m\u001b[0msolve_for_reaction_loads\u001b[0m\u001b[1;33m(\u001b[0m\u001b[0mre\u001b[0m\u001b[1;33m)\u001b[0m\u001b[1;33m\u001b[0m\u001b[1;33m\u001b[0m\u001b[0m\n\u001b[0m\u001b[0;32m      2\u001b[0m \u001b[0mb\u001b[0m\u001b[1;33m.\u001b[0m\u001b[0mreaction_loads\u001b[0m\u001b[1;33m\u001b[0m\u001b[1;33m\u001b[0m\u001b[0m\n",
      "\u001b[1;32m~\\anaconda3\\lib\\site-packages\\sympy\\physics\\continuum_mechanics\\beam.py\u001b[0m in \u001b[0;36msolve_for_reaction_loads\u001b[1;34m(self, *reactions)\u001b[0m\n\u001b[0;32m    798\u001b[0m             \u001b[0mdeflection_eqs\u001b[0m\u001b[1;33m.\u001b[0m\u001b[0mappend\u001b[0m\u001b[1;33m(\u001b[0m\u001b[0meqs\u001b[0m\u001b[1;33m)\u001b[0m\u001b[1;33m\u001b[0m\u001b[1;33m\u001b[0m\u001b[0m\n\u001b[0;32m    799\u001b[0m \u001b[1;33m\u001b[0m\u001b[0m\n\u001b[1;32m--> 800\u001b[1;33m         solution = list((linsolve([shear_curve, moment_curve] + slope_eqs\n\u001b[0m\u001b[0;32m    801\u001b[0m                             + deflection_eqs, (C3, C4) + reactions).args)[0])\n\u001b[0;32m    802\u001b[0m         \u001b[0msolution\u001b[0m \u001b[1;33m=\u001b[0m \u001b[0msolution\u001b[0m\u001b[1;33m[\u001b[0m\u001b[1;36m2\u001b[0m\u001b[1;33m:\u001b[0m\u001b[1;33m]\u001b[0m\u001b[1;33m\u001b[0m\u001b[1;33m\u001b[0m\u001b[0m\n",
      "\u001b[1;32m~\\anaconda3\\lib\\site-packages\\sympy\\solvers\\solveset.py\u001b[0m in \u001b[0;36mlinsolve\u001b[1;34m(system, *symbols)\u001b[0m\n\u001b[0;32m   2568\u001b[0m                 _mexpand(i.lhs - i.rhs if isinstance(i, Eq) else i,\n\u001b[0;32m   2569\u001b[0m                 recursive=True) for i in system]\n\u001b[1;32m-> 2570\u001b[1;33m             \u001b[0msystem\u001b[0m\u001b[1;33m,\u001b[0m \u001b[0msymbols\u001b[0m\u001b[1;33m,\u001b[0m \u001b[0mswap\u001b[0m \u001b[1;33m=\u001b[0m \u001b[0mrecast_to_symbols\u001b[0m\u001b[1;33m(\u001b[0m\u001b[0msystem\u001b[0m\u001b[1;33m,\u001b[0m \u001b[0msymbols\u001b[0m\u001b[1;33m)\u001b[0m\u001b[1;33m\u001b[0m\u001b[1;33m\u001b[0m\u001b[0m\n\u001b[0m\u001b[0;32m   2571\u001b[0m             \u001b[0mA\u001b[0m\u001b[1;33m,\u001b[0m \u001b[0mb\u001b[0m \u001b[1;33m=\u001b[0m \u001b[0mlinear_eq_to_matrix\u001b[0m\u001b[1;33m(\u001b[0m\u001b[0msystem\u001b[0m\u001b[1;33m,\u001b[0m \u001b[0msymbols\u001b[0m\u001b[1;33m)\u001b[0m\u001b[1;33m\u001b[0m\u001b[1;33m\u001b[0m\u001b[0m\n\u001b[0;32m   2572\u001b[0m             \u001b[0msyms_needed_msg\u001b[0m \u001b[1;33m=\u001b[0m \u001b[1;34m'free symbols in the equations provided'\u001b[0m\u001b[1;33m\u001b[0m\u001b[1;33m\u001b[0m\u001b[0m\n",
      "\u001b[1;32m~\\anaconda3\\lib\\site-packages\\sympy\\solvers\\solvers.py\u001b[0m in \u001b[0;36mrecast_to_symbols\u001b[1;34m(eqs, symbols)\u001b[0m\n\u001b[0;32m     93\u001b[0m     \u001b[0mswap_sym\u001b[0m \u001b[1;33m=\u001b[0m \u001b[1;33m{\u001b[0m\u001b[1;33m}\u001b[0m\u001b[1;33m\u001b[0m\u001b[1;33m\u001b[0m\u001b[0m\n\u001b[0;32m     94\u001b[0m     \u001b[1;32mfor\u001b[0m \u001b[0mi\u001b[0m\u001b[1;33m,\u001b[0m \u001b[0ms\u001b[0m \u001b[1;32min\u001b[0m \u001b[0menumerate\u001b[0m\u001b[1;33m(\u001b[0m\u001b[0msymbols\u001b[0m\u001b[1;33m)\u001b[0m\u001b[1;33m:\u001b[0m\u001b[1;33m\u001b[0m\u001b[1;33m\u001b[0m\u001b[0m\n\u001b[1;32m---> 95\u001b[1;33m         \u001b[1;32mif\u001b[0m \u001b[1;32mnot\u001b[0m \u001b[0misinstance\u001b[0m\u001b[1;33m(\u001b[0m\u001b[0ms\u001b[0m\u001b[1;33m,\u001b[0m \u001b[0mSymbol\u001b[0m\u001b[1;33m)\u001b[0m \u001b[1;32mand\u001b[0m \u001b[0ms\u001b[0m \u001b[1;32mnot\u001b[0m \u001b[1;32min\u001b[0m \u001b[0mswap_sym\u001b[0m\u001b[1;33m:\u001b[0m\u001b[1;33m\u001b[0m\u001b[1;33m\u001b[0m\u001b[0m\n\u001b[0m\u001b[0;32m     96\u001b[0m             \u001b[0mswap_sym\u001b[0m\u001b[1;33m[\u001b[0m\u001b[0ms\u001b[0m\u001b[1;33m]\u001b[0m \u001b[1;33m=\u001b[0m \u001b[0mDummy\u001b[0m\u001b[1;33m(\u001b[0m\u001b[1;34m'X%d'\u001b[0m \u001b[1;33m%\u001b[0m \u001b[0mi\u001b[0m\u001b[1;33m)\u001b[0m\u001b[1;33m\u001b[0m\u001b[1;33m\u001b[0m\u001b[0m\n\u001b[0;32m     97\u001b[0m             \u001b[0mnew_symbols\u001b[0m\u001b[1;33m[\u001b[0m\u001b[0mi\u001b[0m\u001b[1;33m]\u001b[0m \u001b[1;33m=\u001b[0m \u001b[0mswap_sym\u001b[0m\u001b[1;33m[\u001b[0m\u001b[0ms\u001b[0m\u001b[1;33m]\u001b[0m\u001b[1;33m\u001b[0m\u001b[1;33m\u001b[0m\u001b[0m\n",
      "\u001b[1;31mTypeError\u001b[0m: unhashable type: 'list'"
     ]
    }
   ],
   "source": [
    "\n",
    "b.solve_for_reaction_loads(re)\n",
    "b.reaction_loads"
   ]
  },
  {
   "cell_type": "code",
   "execution_count": null,
   "metadata": {},
   "outputs": [],
   "source": [
    "b.load"
   ]
  },
  {
   "cell_type": "code",
   "execution_count": null,
   "metadata": {},
   "outputs": [],
   "source": [
    "b.shear_force()"
   ]
  },
  {
   "cell_type": "code",
   "execution_count": null,
   "metadata": {},
   "outputs": [],
   "source": [
    "b.bending_moment()"
   ]
  },
  {
   "cell_type": "code",
   "execution_count": null,
   "metadata": {},
   "outputs": [],
   "source": [
    "b.plot_shear_force()  \n",
    "b.plot_bending_moment() "
   ]
  },
  {
   "cell_type": "code",
   "execution_count": null,
   "metadata": {},
   "outputs": [],
   "source": []
  }
 ],
 "metadata": {
  "kernelspec": {
   "display_name": "Python 3",
   "language": "python",
   "name": "python3"
  },
  "language_info": {
   "codemirror_mode": {
    "name": "ipython",
    "version": 3
   },
   "file_extension": ".py",
   "mimetype": "text/x-python",
   "name": "python",
   "nbconvert_exporter": "python",
   "pygments_lexer": "ipython3",
   "version": "3.8.3"
  }
 },
 "nbformat": 4,
 "nbformat_minor": 4
}
