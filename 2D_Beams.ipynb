{
 "cells": [
  {
   "cell_type": "code",
   "execution_count": 100,
   "metadata": {
    "scrolled": false
   },
   "outputs": [
    {
     "name": "stdout",
     "output_type": "stream",
     "text": [
      "Requirement already up-to-date: sympy in c:\\users\\shashank\\anaconda3\\lib\\site-packages (1.8)"
     ]
    },
    {
     "name": "stderr",
     "output_type": "stream",
     "text": [
      "WARNING: Retrying (Retry(total=4, connect=None, read=None, redirect=None, status=None)) after connection broken by 'NewConnectionError('<pip._vendor.urllib3.connection.VerifiedHTTPSConnection object at 0x000002D19FD10BE0>: Failed to establish a new connection: [Errno 11001] getaddrinfo failed')': /simple/sympy/\n",
      "WARNING: Retrying (Retry(total=3, connect=None, read=None, redirect=None, status=None)) after connection broken by 'NewConnectionError('<pip._vendor.urllib3.connection.VerifiedHTTPSConnection object at 0x000002D19C5E2700>: Failed to establish a new connection: [Errno 11001] getaddrinfo failed')': /simple/sympy/\n",
      "WARNING: Retrying (Retry(total=2, connect=None, read=None, redirect=None, status=None)) after connection broken by 'NewConnectionError('<pip._vendor.urllib3.connection.VerifiedHTTPSConnection object at 0x000002D19FD10CD0>: Failed to establish a new connection: [Errno 11001] getaddrinfo failed')': /simple/sympy/\n",
      "WARNING: Retrying (Retry(total=1, connect=None, read=None, redirect=None, status=None)) after connection broken by 'NewConnectionError('<pip._vendor.urllib3.connection.VerifiedHTTPSConnection object at 0x000002D19FD10E20>: Failed to establish a new connection: [Errno 11001] getaddrinfo failed')': /simple/sympy/\n",
      "WARNING: Retrying (Retry(total=0, connect=None, read=None, redirect=None, status=None)) after connection broken by 'NewConnectionError('<pip._vendor.urllib3.connection.VerifiedHTTPSConnection object at 0x000002D19FD10EE0>: Failed to establish a new connection: [Errno 11001] getaddrinfo failed')': /simple/sympy/\n"
     ]
    },
    {
     "name": "stdout",
     "output_type": "stream",
     "text": [
      "\n",
      "Requirement already satisfied, skipping upgrade: mpmath>=0.19 in c:\\users\\shashank\\anaconda3\\lib\\site-packages (from sympy) (1.1.0)\n"
     ]
    }
   ],
   "source": [
    "!pip install --upgrade sympy\n",
    "    \n",
    "#PELASE ASSURE YOU HAVE SYMPY VERSION 1.8 OR ABOVE INSTALLED ON YOUR MACHINCE ELSE YOU WILL BE GETTING REVERSED SFD & BMD."
   ]
  },
  {
   "cell_type": "markdown",
   "metadata": {},
   "source": [
    "**LOADING FUNCTION** <img src=\"BasePlate_SingularityFunctions_032120.png\" width=800 height=800 />"
   ]
  },
  {
   "cell_type": "markdown",
   "metadata": {},
   "source": [
    "\n",
    "**<h4>Distribution function q(x), we can integrate to get the shear V(x) and the\n",
    "moment M(x) functions.<h4>**<br/>\n",
    "$V(x) = -$$\\int q(x) + C1$<br/>\n",
    "<br/>\n",
    "$M(x) = -$$\\int V(x) + C1<X>^0 + C2$\n"
   ]
  },
  {
   "cell_type": "markdown",
   "metadata": {},
   "source": [
    "**SIGN CONVENTION :**<img src=\"New Microsoft Word Document.jpg\" width=800 height=800 />"
   ]
  },
  {
   "cell_type": "code",
   "execution_count": 101,
   "metadata": {},
   "outputs": [],
   "source": [
    "#@title\n",
    "from sympy import * #importing all modules from sympy\n",
    "from sympy.physics.continuum_mechanics.beam import Beam #importing beam modules from sympy\n",
    "E, I = symbols('E, I') \n",
    "\n",
    "    \n",
    "def point_load():#function to add point load in KN dist measured from left hand side\n",
    "    value=float(input(\"Enter load in KN \\nDOWNWARD= POSITIVE\\nUPWARD = NEGATIVE:\\n \"))\n",
    "    pos=float(input(\"Enter the position in m measured from left : \"))\n",
    "    b.apply_load(value,pos,-1,end=None)\n",
    "    \n",
    "def moment():#function to add moment in KN-m dist measured from left hand side\n",
    "    value=float(input(\"Enter moment in KN-m \\nCLOCKWISE = NEGATIVE \\n ANTI-CLOCKWISE = POSITIVE:\\n \"))\n",
    "    pos=float(input(\"Enter the position in m measured from left: \"))\n",
    "    b.apply_load(value,pos,-2,end=None)\n",
    "def UDL():#function to add UDL in KN/m dist measured from left hand side\n",
    "    value=float(input(\"Enter load in KN/m \\nDOWNWARD= POSITIVE\\nUPWARD = NEGATIVE:\\n \"))\n",
    "    pos1=float(input(\"Enter the starting point in m measured from left: \"))\n",
    "    pos2=float(input(\"Enter the ending point in m measured from left: \"))\n",
    "    b.apply_load(value,pos1,0,end=pos2)\n",
    "    \n",
    "def UVL():#function to add UVL in KN/m dist measured from left hand side\n",
    "    value1=float(input(\"Enter staring load in KN/m \\nDOWNWARD= POSITIVE\\nUPWARD = NEGATIVE:\\n :  \"))\n",
    "    value2=float(input(\"Enter ending load in KN/m \\nDOWNWARD= POSITIVE\\nUPWARD = NEGATIVE:\\n : \"))    \n",
    "    pos1=float(input(\"Enter the starting point in m measured from left: \"))\n",
    "    pos2=float(input(\"Enter the ending point in m measured from left: \"))\n",
    "    \n",
    "    if (value1>0):#checking if the load is trapezoidal or triangular load then converting the trapezoidal load in to a UDL+triangular load\n",
    "        b.apply_load(value1,pos1,0,end=pos2)\n",
    "        \n",
    "        \n",
    "        value2=value2-value1\n",
    "        value1=0\n",
    "        slope=value2/(pos2-pos1)\n",
    "        b.apply_load(slope,pos1,1,end=pos2)\n",
    "        \n",
    "        #b.apply_load(1, pos1, 1, end=6)\n",
    "    else:\n",
    "        slope=value2/(pos2-pos1)\n",
    "        b.apply_load(slope,pos1,1,end=pos2)\n",
    "        \n",
    "#Functions to add supports and location  measured from left       \n",
    "def fixed(loc):\n",
    "    b.apply_support(loc,type='fixed')\n",
    "    \n",
    "def pin(loc):\n",
    "    b.apply_support(loc,type='pin')\n",
    "\n",
    "def roller(loc):\n",
    "    b.apply_support(loc,type='roller')\n",
    "\n",
    "reac_counter=0    \n",
    "    \n",
    "    \n",
    "    \n",
    "    \n",
    "    \n",
    "    "
   ]
  },
  {
   "cell_type": "code",
   "execution_count": 102,
   "metadata": {},
   "outputs": [
    {
     "name": "stdout",
     "output_type": "stream",
     "text": [
      "Enter the length of the beam in m:\n",
      "5\n",
      "Enter the number of point loads:\n",
      "2\n",
      "Enter load in KN \n",
      "DOWNWARD= POSITIVE\n",
      "UPWARD = NEGATIVE:\n",
      " 30\n",
      "Enter the position in m measured from left : 2.5\n",
      "Enter load in KN \n",
      "DOWNWARD= POSITIVE\n",
      "UPWARD = NEGATIVE:\n",
      " 30\n",
      "Enter the position in m measured from left : 3.25\n",
      "Enter the number of moment:\n",
      "0\n",
      "Enter the number of UDLs:\n",
      "0\n",
      "Enter the number of UVLs:\n",
      "0\n",
      "Enter the number of fixed supports:\n",
      "0\n",
      "Enter the number of pin supports:\n",
      "6\n",
      "Enter the location in m:\n",
      "0\n",
      "Enter the location in m:\n",
      ".75\n",
      "Enter the location in m:\n",
      "1.5\n",
      "Enter the location in m:\n",
      "2.25\n",
      "Enter the location in m:\n",
      "3.5\n",
      "Enter the location in m:\n",
      "4\n",
      "Enter the number of roller supports:\n",
      "0\n"
     ]
    }
   ],
   "source": [
    "#@title\n",
    "l=value=float(input(\"Enter the length of the beam in m:\\n\"))\n",
    "b = Beam(l, E, I)\n",
    "\n",
    "npl=int(input(\"Enter the number of point loads:\\n\"))\n",
    "for i in range(npl):\n",
    "    point_load()\n",
    "    \n",
    "    \n",
    "nm=int(input(\"Enter the number of moment:\\n\"))\n",
    "for i in range(nm):\n",
    "    moment()\n",
    "    \n",
    "    \n",
    "udl=int(input(\"Enter the number of UDLs:\\n\"))\n",
    "for i in range(udl):\n",
    "    UDL()\n",
    "    \n",
    "uvl=int(input(\"Enter the number of UVLs:\\n\"))\n",
    "for i in range(uvl):\n",
    "    UVL()\n",
    "    \n",
    "fs=int(input(\"Enter the number of fixed supports:\\n\"))\n",
    "reac_counter=reac_counter+(2*fs)\n",
    "for i in range(fs):\n",
    "    loc=float(input(\"Enter the location in m:\\n\"))\n",
    "    fixed(loc)\n",
    "    \n",
    "    \n",
    "ps=int(input(\"Enter the number of pin supports:\\n\"))\n",
    "reac_counter=reac_counter+ps\n",
    "for i in range(ps):\n",
    "    loc=float(input(\"Enter the location in m:\\n\"))\n",
    "    pin(loc)\n",
    "    \n",
    "rs=int(input(\"Enter the number of roller supports:\\n\"))\n",
    "reac_counter=reac_counter+rs\n",
    "for i in range(rs):\n",
    "    loc=float(input(\"Enter the location in m:\\n\"))\n",
    "    roller(loc)\n",
    "    \n",
    "\n",
    "    "
   ]
  },
  {
   "cell_type": "code",
   "execution_count": 103,
   "metadata": {},
   "outputs": [
    {
     "name": "stdout",
     "output_type": "stream",
     "text": [
      "BEAM DIAGRAM\n"
     ]
    },
    {
     "data": {
      "image/png": "[encoded data removed]",
      "text/plain": [
       "<Figure size 432x288 with 1 Axes>"
      ]
     },
     "metadata": {
      "needs_background": "light"
     },
     "output_type": "display_data"
    }
   ],
   "source": [
    "print(\"BEAM DIAGRAM\")\n",
    "p = b.draw()\n",
    "p.show()"
   ]
  },
  {
   "cell_type": "code",
   "execution_count": 104,
   "metadata": {},
   "outputs": [
    {
     "name": "stdout",
     "output_type": "stream",
     "text": [
      "FINAL LOAD EQUATION\n"
     ]
    },
    {
     "data": {
      "text/latex": [
       "$\\displaystyle R_{0.0} {\\left\\langle x \\right\\rangle}^{-1} + R_{0.750000000000000} {\\left\\langle x - 0.75 \\right\\rangle}^{-1} + R_{1.50000000000000} {\\left\\langle x - 1.5 \\right\\rangle}^{-1} + R_{2.25000000000000} {\\left\\langle x - 2.25 \\right\\rangle}^{-1} + R_{3.50000000000000} {\\left\\langle x - 3.5 \\right\\rangle}^{-1} + R_{4.00000000000000} {\\left\\langle x - 4.0 \\right\\rangle}^{-1} + 30.0 {\\left\\langle x - 2.5 \\right\\rangle}^{-1} + 30.0 {\\left\\langle x - 3.25 \\right\\rangle}^{-1}$"
      ],
      "text/plain": [
       "R_0.0*SingularityFunction(x, 0.0, -1) + R_0.750000000000000*SingularityFunction(x, 0.75, -1) + R_1.50000000000000*SingularityFunction(x, 1.5, -1) + R_2.25000000000000*SingularityFunction(x, 2.25, -1) + R_3.50000000000000*SingularityFunction(x, 3.5, -1) + R_4.00000000000000*SingularityFunction(x, 4.0, -1) + 30.0*SingularityFunction(x, 2.5, -1) + 30.0*SingularityFunction(x, 3.25, -1)"
      ]
     },
     "execution_count": 104,
     "metadata": {},
     "output_type": "execute_result"
    }
   ],
   "source": [
    "print(\"FINAL LOAD EQUATION\")\n",
    "b.load"
   ]
  },
  {
   "cell_type": "code",
   "execution_count": 105,
   "metadata": {},
   "outputs": [],
   "source": [
    "#@title\n",
    "#extraction of reaction forces symbols from list of tuples of applied loads.\n",
    "n=reac_counter#number of reaction forces\n",
    "listreac = b.applied_loads[-n:]\n",
    "reac = []\n",
    "\n",
    "for a_tuple in listreac:\n",
    "    reac.append(a_tuple[0])"
   ]
  },
  {
   "cell_type": "code",
   "execution_count": 106,
   "metadata": {},
   "outputs": [
    {
     "data": {
      "text/plain": [
       "[R_0.0,\n",
       " R_0.750000000000000,\n",
       " R_1.50000000000000,\n",
       " R_2.25000000000000,\n",
       " R_3.50000000000000,\n",
       " R_4.00000000000000]"
      ]
     },
     "execution_count": 106,
     "metadata": {},
     "output_type": "execute_result"
    }
   ],
   "source": [
    "reac"
   ]
  },
  {
   "cell_type": "code",
   "execution_count": 107,
   "metadata": {},
   "outputs": [
    {
     "data": {
      "text/plain": [
       "6"
      ]
     },
     "execution_count": 107,
     "metadata": {},
     "output_type": "execute_result"
    }
   ],
   "source": [
    "len(reac)"
   ]
  },
  {
   "cell_type": "code",
   "execution_count": 108,
   "metadata": {},
   "outputs": [
    {
     "name": "stdout",
     "output_type": "stream",
     "text": [
      "{R_0.0: 1.30886259357644, R_0.750000000000000: -6.71921033566775, R_1.50000000000000: 14.9754890123159, R_2.25000000000000: -40.6648605409322, R_3.50000000000000: -38.8222168558341, R_4.00000000000000: 9.21516541898092}\n"
     ]
    }
   ],
   "source": [
    "#@title\n",
    "#assigning variables for the reaction forces depending upon the number of reaction forces assuming there are atmost two supports\n",
    "r1=''\n",
    "r2=''\n",
    "r3=''\n",
    "r4=''\n",
    "r5=''\n",
    "\n",
    "n_reac=len(reac)\n",
    "\n",
    "if (n_reac==1):\n",
    "    r1=str(reac[0])\n",
    "    #r2=str(reac[1])\n",
    "    R_0=symbols(r1)\n",
    "    #R_2= symbols(r2)\n",
    "    b.solve_for_reaction_loads(R_0)\n",
    "    print(b.reaction_loads)\n",
    "\n",
    "\n",
    "if (n_reac==2):\n",
    "    r1=str(reac[0])\n",
    "    r2=str(reac[1])\n",
    "    R_0=symbols(r1)\n",
    "    R_1= symbols(r2)\n",
    "    b.solve_for_reaction_loads(R_0,R_1)\n",
    "    print(b.reaction_loads)\n",
    "    \n",
    "\n",
    "    \n",
    "if (n_reac==3):\n",
    "    r1=str(reac[0])\n",
    "    r2=str(reac[1])\n",
    "    r3=str(reac[2])\n",
    "    R_0=symbols(r1)\n",
    "    R_1= symbols(r2)\n",
    "    R_2=symbols(r3)\n",
    "    b.solve_for_reaction_loads(R_0,R_1,R_2)\n",
    "    print(b.reaction_loads)\n",
    "    \n",
    "if (n_reac==4):\n",
    "    r1=str(reac[0])\n",
    "    r2=str(reac[1])\n",
    "    r3=str(reac[2])\n",
    "    r4=str(reac[3])\n",
    "    R_0=symbols(r1)\n",
    "    R_1= symbols(r2)\n",
    "    R_2=symbols(r3)\n",
    "    R_3=symbols(r4)\n",
    "    b.solve_for_reaction_loads(R_0,R_1,R_2,R_3)\n",
    "    print(b.reaction_loads)\n",
    "    \n",
    "if (n_reac==5):\n",
    "    r1=str(reac[0])\n",
    "    r2=str(reac[1])\n",
    "    r3=str(reac[2])\n",
    "    r4=str(reac[3])\n",
    "    r5=str(reac[4])\n",
    "    R_0=symbols(r1)\n",
    "    R_1= symbols(r2)\n",
    "    R_2=symbols(r3)\n",
    "    R_3=symbols(r4)\n",
    "    R_4=symbols(r5)\n",
    "    b.solve_for_reaction_loads(R_0,R_1,R_2,R_3,R_4)\n",
    "    print(b.reaction_loads)\n",
    "    \n",
    "if (n_reac==6):\n",
    "    r1=str(reac[0])\n",
    "    r2=str(reac[1])\n",
    "    r3=str(reac[2])\n",
    "    r4=str(reac[3])\n",
    "    r5=str(reac[4])\n",
    "    r6=str(reac[5])\n",
    "    R_0=symbols(r1)\n",
    "    R_1= symbols(r2)\n",
    "    R_2=symbols(r3)\n",
    "    R_3=symbols(r4)\n",
    "    R_4=symbols(r5)\n",
    "    R_5=symbols(r6)\n",
    "    b.solve_for_reaction_loads(R_0,R_1,R_2,R_3,R_4,R_5)\n",
    "    print(b.reaction_loads)\n",
    "    \n",
    "    \n",
    "\n",
    "#R_0=symbols(r1)\n",
    "#R_2= symbols(r2)\n",
    "#b.solve_for_reaction_loads(R_4,R_0)\n",
    "#b.reaction_loads"
   ]
  },
  {
   "cell_type": "code",
   "execution_count": 109,
   "metadata": {},
   "outputs": [
    {
     "data": {
      "text/plain": [
       "{R_0.0: 1.30886259357644,\n",
       " R_0.750000000000000: -6.71921033566775,\n",
       " R_1.50000000000000: 14.9754890123159,\n",
       " R_2.25000000000000: -40.6648605409322,\n",
       " R_3.50000000000000: -38.8222168558341,\n",
       " R_4.00000000000000: 9.21516541898092}"
      ]
     },
     "execution_count": 109,
     "metadata": {},
     "output_type": "execute_result"
    }
   ],
   "source": [
    "b.reaction_loads"
   ]
  },
  {
   "cell_type": "code",
   "execution_count": 110,
   "metadata": {},
   "outputs": [
    {
     "name": "stdout",
     "output_type": "stream",
     "text": [
      "FINAL LOAD EQUATION\n"
     ]
    },
    {
     "data": {
      "text/latex": [
       "$\\displaystyle 1.30886259357644 {\\left\\langle x \\right\\rangle}^{-1} - 6.71921033566775 {\\left\\langle x - 0.75 \\right\\rangle}^{-1} + 14.9754890123159 {\\left\\langle x - 1.5 \\right\\rangle}^{-1} - 40.6648605409322 {\\left\\langle x - 2.25 \\right\\rangle}^{-1} + 30.0 {\\left\\langle x - 2.5 \\right\\rangle}^{-1} + 30.0 {\\left\\langle x - 3.25 \\right\\rangle}^{-1} - 38.8222168558341 {\\left\\langle x - 3.5 \\right\\rangle}^{-1} + 9.21516541898092 {\\left\\langle x - 4.0 \\right\\rangle}^{-1}$"
      ],
      "text/plain": [
       "1.30886259357644*SingularityFunction(x, 0.0, -1) - 6.71921033566775*SingularityFunction(x, 0.75, -1) + 14.9754890123159*SingularityFunction(x, 1.5, -1) - 40.6648605409322*SingularityFunction(x, 2.25, -1) + 30.0*SingularityFunction(x, 2.5, -1) + 30.0*SingularityFunction(x, 3.25, -1) - 38.8222168558341*SingularityFunction(x, 3.5, -1) + 9.21516541898092*SingularityFunction(x, 4.0, -1)"
      ]
     },
     "execution_count": 110,
     "metadata": {},
     "output_type": "execute_result"
    }
   ],
   "source": [
    "print(\"FINAL LOAD EQUATION\")\n",
    "b.load\n"
   ]
  },
  {
   "cell_type": "code",
   "execution_count": 111,
   "metadata": {},
   "outputs": [
    {
     "name": "stdout",
     "output_type": "stream",
     "text": [
      "SHEAR FORCE EQUATION\n"
     ]
    },
    {
     "data": {
      "text/latex": [
       "$\\displaystyle - 1.30886259357644 {\\left\\langle x \\right\\rangle}^{0} + 6.71921033566775 {\\left\\langle x - 0.75 \\right\\rangle}^{0} - 14.9754890123159 {\\left\\langle x - 1.5 \\right\\rangle}^{0} + 40.6648605409322 {\\left\\langle x - 2.25 \\right\\rangle}^{0} - 30.0 {\\left\\langle x - 2.5 \\right\\rangle}^{0} - 30.0 {\\left\\langle x - 3.25 \\right\\rangle}^{0} + 38.8222168558341 {\\left\\langle x - 3.5 \\right\\rangle}^{0} - 9.21516541898092 {\\left\\langle x - 4.0 \\right\\rangle}^{0}$"
      ],
      "text/plain": [
       "-1.30886259357644*SingularityFunction(x, 0.0, 0) + 6.71921033566775*SingularityFunction(x, 0.75, 0) - 14.9754890123159*SingularityFunction(x, 1.5, 0) + 40.6648605409322*SingularityFunction(x, 2.25, 0) - 30.0*SingularityFunction(x, 2.5, 0) - 30.0*SingularityFunction(x, 3.25, 0) + 38.8222168558341*SingularityFunction(x, 3.5, 0) - 9.21516541898092*SingularityFunction(x, 4.0, 0)"
      ]
     },
     "execution_count": 111,
     "metadata": {},
     "output_type": "execute_result"
    }
   ],
   "source": [
    "print(\"SHEAR FORCE EQUATION\")\n",
    "b.shear_force()\n"
   ]
  },
  {
   "cell_type": "code",
   "execution_count": 112,
   "metadata": {},
   "outputs": [
    {
     "name": "stdout",
     "output_type": "stream",
     "text": [
      "BENDING MOMENT EQUATION\n"
     ]
    },
    {
     "data": {
      "text/latex": [
       "$\\displaystyle - 1.30886259357644 {\\left\\langle x \\right\\rangle}^{1} + 6.71921033566775 {\\left\\langle x - 0.75 \\right\\rangle}^{1} - 14.9754890123159 {\\left\\langle x - 1.5 \\right\\rangle}^{1} + 40.6648605409322 {\\left\\langle x - 2.25 \\right\\rangle}^{1} - 30.0 {\\left\\langle x - 2.5 \\right\\rangle}^{1} - 30.0 {\\left\\langle x - 3.25 \\right\\rangle}^{1} + 38.8222168558341 {\\left\\langle x - 3.5 \\right\\rangle}^{1} - 9.21516541898092 {\\left\\langle x - 4.0 \\right\\rangle}^{1}$"
      ],
      "text/plain": [
       "-1.30886259357644*SingularityFunction(x, 0.0, 1) + 6.71921033566775*SingularityFunction(x, 0.75, 1) - 14.9754890123159*SingularityFunction(x, 1.5, 1) + 40.6648605409322*SingularityFunction(x, 2.25, 1) - 30.0*SingularityFunction(x, 2.5, 1) - 30.0*SingularityFunction(x, 3.25, 1) + 38.8222168558341*SingularityFunction(x, 3.5, 1) - 9.21516541898092*SingularityFunction(x, 4.0, 1)"
      ]
     },
     "execution_count": 112,
     "metadata": {},
     "output_type": "execute_result"
    }
   ],
   "source": [
    "print(\"BENDING MOMENT EQUATION\")\n",
    "b.bending_moment()"
   ]
  },
  {
   "cell_type": "code",
   "execution_count": 113,
   "metadata": {},
   "outputs": [
    {
     "name": "stdout",
     "output_type": "stream",
     "text": [
      "SHEAR FORCE DIAGRAM\n"
     ]
    },
    {
     "data": {
      "image/png": "[encoded data removed]",
      "text/plain": [
       "<Figure size 432x288 with 1 Axes>"
      ]
     },
     "metadata": {
      "needs_background": "light"
     },
     "output_type": "display_data"
    },
    {
     "data": {
      "text/plain": [
       "<sympy.plotting.plot.Plot at 0x21bcb629e50>"
      ]
     },
     "execution_count": 113,
     "metadata": {},
     "output_type": "execute_result"
    }
   ],
   "source": [
    "print(\"SHEAR FORCE DIAGRAM\")\n",
    "b.plot_shear_force()\n",
    "\n"
   ]
  },
  {
   "cell_type": "code",
   "execution_count": 114,
   "metadata": {},
   "outputs": [
    {
     "name": "stdout",
     "output_type": "stream",
     "text": [
      "BENDING MOMENT DIAGRAM\n"
     ]
    },
    {
     "data": {
      "image/png": "[encoded data removed]",
      "text/plain": [
       "<Figure size 432x288 with 1 Axes>"
      ]
     },
     "metadata": {
      "needs_background": "light"
     },
     "output_type": "display_data"
    },
    {
     "data": {
      "text/plain": [
       "<sympy.plotting.plot.Plot at 0x21bcb7fad30>"
      ]
     },
     "execution_count": 114,
     "metadata": {},
     "output_type": "execute_result"
    }
   ],
   "source": [
    "print('BENDING MOMENT DIAGRAM')\n",
    "b.plot_bending_moment()"
   ]
  },
  {
   "cell_type": "code",
   "execution_count": null,
   "metadata": {},
   "outputs": [],
   "source": []
  },
  {
   "cell_type": "code",
   "execution_count": null,
   "metadata": {},
   "outputs": [],
   "source": []
  }
 ],
 "metadata": {
  "kernelspec": {
   "display_name": "Python 3",
   "language": "python",
   "name": "python3"
  },
  "language_info": {
   "codemirror_mode": {
    "name": "ipython",
    "version": 3
   },
   "file_extension": ".py",
   "mimetype": "text/x-python",
   "name": "python",
   "nbconvert_exporter": "python",
   "pygments_lexer": "ipython3",
   "version": "3.8.3"
  }
 },
 "nbformat": 4,
 "nbformat_minor": 4
}
